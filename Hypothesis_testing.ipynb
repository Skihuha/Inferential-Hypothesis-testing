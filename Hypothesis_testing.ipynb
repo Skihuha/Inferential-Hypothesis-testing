{
 "cells": [
  {
   "cell_type": "code",
   "execution_count": 19,
   "id": "6f88dbc7",
   "metadata": {},
   "outputs": [],
   "source": [
    "## Lets import the required modules\n",
    "import pandas as pd\n",
    "import numpy as np\n",
    "from scipy import stats\n",
    "import statsmodels.api as sm\n",
    "from statsmodels.formula.api import ols\n",
    "from scipy.stats import chi2_contingency,chisquare\n",
    "from scipy.stats import norm"
   ]
  },
  {
   "cell_type": "code",
   "execution_count": 4,
   "id": "ef4e8fce",
   "metadata": {},
   "outputs": [],
   "source": [
    "## Load the csv into our code using pandas\n",
    "iris = pd.read_csv('C:/Users/Admin/Documents/Inferential-Hypothesis-testing/Iris.csv')\n",
    "students = pd.read_csv('C:/Users/Admin/Documents/Inferential-Hypothesis-testing/StudentsPerformance.csv')\n",
    "tested = pd.read_csv('C:/Users/Admin/Documents/Inferential-Hypothesis-testing/tested.csv')"
   ]
  },
  {
   "cell_type": "code",
   "execution_count": null,
   "id": "5edb3693",
   "metadata": {},
   "outputs": [],
   "source": [
    "##confirm loaded pandas datasets\n",
    "iris.head()\n",
    "students.head()\n",
    "tested.head()"
   ]
  },
  {
   "cell_type": "markdown",
   "id": "a3309114",
   "metadata": {},
   "source": [
    "## QUESTION 1"
   ]
  },
  {
   "cell_type": "code",
   "execution_count": 9,
   "id": "0f00949d",
   "metadata": {},
   "outputs": [
    {
     "name": "stdout",
     "output_type": "stream",
     "text": [
      "12.473257146694761\n",
      "6.670742299801927e-25\n",
      "we reject this hypothesis\n"
     ]
    }
   ],
   "source": [
    "iris.columns\n",
    "\n",
    "##we will use sepal lengthcm for this question\n",
    "sepal_lengths = iris['SepalLengthCm']\n",
    "t_stat, p_value = stats.ttest_1samp(sepal_lengths, 5.0)\n",
    "\n",
    "print(t_stat)\n",
    "print (p_value)\n",
    "\n",
    "alpha = 0.05\n",
    "if p_value < alpha:\n",
    "    print(\"we reject this hypothesis\")\n",
    "else:\n",
    "    print(\"we fail to reject this hypothesis\")\n",
    "\n"
   ]
  },
  {
   "cell_type": "markdown",
   "id": "bbcceaf8",
   "metadata": {},
   "source": [
    "## QUESTION TWO\n",
    "two sampled"
   ]
  },
  {
   "cell_type": "code",
   "execution_count": null,
   "id": "dd0e2808",
   "metadata": {},
   "outputs": [
    {
     "name": "stdout",
     "output_type": "stream",
     "text": [
      "0     3.5\n",
      "1     3.0\n",
      "2     3.2\n",
      "3     3.1\n",
      "4     3.6\n",
      "5     3.9\n",
      "6     3.4\n",
      "7     3.4\n",
      "8     2.9\n",
      "9     3.1\n",
      "10    3.7\n",
      "11    3.4\n",
      "12    3.0\n",
      "13    3.0\n",
      "14    4.0\n",
      "15    4.4\n",
      "16    3.9\n",
      "17    3.5\n",
      "18    3.8\n",
      "19    3.8\n",
      "20    3.4\n",
      "21    3.7\n",
      "22    3.6\n",
      "23    3.3\n",
      "24    3.4\n",
      "25    3.0\n",
      "26    3.4\n",
      "27    3.5\n",
      "28    3.4\n",
      "29    3.2\n",
      "30    3.1\n",
      "31    3.4\n",
      "32    4.1\n",
      "33    4.2\n",
      "34    3.1\n",
      "35    3.2\n",
      "36    3.5\n",
      "37    3.1\n",
      "38    3.0\n",
      "39    3.4\n",
      "40    3.5\n",
      "41    2.3\n",
      "42    3.2\n",
      "43    3.5\n",
      "44    3.8\n",
      "45    3.0\n",
      "46    3.8\n",
      "47    3.2\n",
      "48    3.7\n",
      "49    3.3\n",
      "Name: SepalWidthCm, dtype: float64\n",
      "50    3.2\n",
      "51    3.2\n",
      "52    3.1\n",
      "53    2.3\n",
      "54    2.8\n",
      "55    2.8\n",
      "56    3.3\n",
      "57    2.4\n",
      "58    2.9\n",
      "59    2.7\n",
      "60    2.0\n",
      "61    3.0\n",
      "62    2.2\n",
      "63    2.9\n",
      "64    2.9\n",
      "65    3.1\n",
      "66    3.0\n",
      "67    2.7\n",
      "68    2.2\n",
      "69    2.5\n",
      "70    3.2\n",
      "71    2.8\n",
      "72    2.5\n",
      "73    2.8\n",
      "74    2.9\n",
      "75    3.0\n",
      "76    2.8\n",
      "77    3.0\n",
      "78    2.9\n",
      "79    2.6\n",
      "80    2.4\n",
      "81    2.4\n",
      "82    2.7\n",
      "83    2.7\n",
      "84    3.0\n",
      "85    3.4\n",
      "86    3.1\n",
      "87    2.3\n",
      "88    3.0\n",
      "89    2.5\n",
      "90    2.6\n",
      "91    3.0\n",
      "92    2.6\n",
      "93    2.3\n",
      "94    2.7\n",
      "95    3.0\n",
      "96    2.9\n",
      "97    2.9\n",
      "98    2.5\n",
      "99    2.8\n",
      "Name: SepalWidthCm, dtype: float64\n",
      "3.418\n",
      "2.7700000000000005\n",
      "9.28277255555811\n",
      "5.879601468409086e-15\n",
      "Since p = 0.0000 < 0.05, we reject H0.\n",
      "Conclusion: There is a significant difference in mean sepal width between Setosa and Versicolor.\n"
     ]
    }
   ],
   "source": [
    "iris.columns\n",
    "## we will work with the species column here\n",
    "\n",
    "# Get sepal width data for each species\n",
    "setosa_sepal_width = iris[iris['Species'] == 'Iris-setosa']['SepalWidthCm']\n",
    "versicolor_sepal_width = iris[iris['Species'] == 'Iris-versicolor']['SepalWidthCm']\n",
    "\n",
    "print(setosa_sepal_width)\n",
    "print(versicolor_sepal_width)\n",
    "\n",
    "##lets now go into the mean of the two\n",
    "print(setosa_sepal_width.mean())\n",
    "print(versicolor_sepal_width.mean())\n",
    "\n",
    "##two sampled t test hapo\n",
    "t_stat, p_value = stats.ttest_ind(setosa_sepal_width, versicolor_sepal_width, equal_var=False)\n",
    "\n",
    "##print both values\n",
    "print(t_stat)\n",
    "print(p_value)\n",
    "\n",
    "##compare p_value to alpha\n",
    "alpha = 0.05\n",
    "if p_value < alpha:\n",
    "    print(f\"Since p = {p_value:.4f} < 0.05, we reject H0.\")\n",
    "    print(\"Conclusion: There is a significant difference in mean sepal width between Setosa and Versicolor.\")\n",
    "else:\n",
    "    print(f\"Since p = {p_value:.4f} >= 0.05, we fail to reject H0.\")\n",
    "    print(\"Conclusion: No significant difference in mean sepal width.\")"
   ]
  },
  {
   "cell_type": "markdown",
   "id": "73957da0",
   "metadata": {},
   "source": [
    "## QUESTION 3\n"
   ]
  },
  {
   "cell_type": "code",
   "execution_count": 16,
   "id": "b2cd3f99",
   "metadata": {},
   "outputs": [
    {
     "name": "stdout",
     "output_type": "stream",
     "text": [
      "1179.0343277002194\n",
      "3.051975801827782e-91\n",
      "Since p = 3.051975801827782e-91 < 0.05, we reject H0.\n",
      "Conclusion: There is a significant difference in petal length across species.\n"
     ]
    }
   ],
   "source": [
    "##tuko anova one way\n",
    "## lets first do this lets get a list of the three categories so to make things easier\n",
    "## then after we take the categories we do the anova\n",
    "\n",
    "\n",
    "# Group data by species\n",
    "setosa_petal = iris[iris['Species'] == 'Iris-setosa']['PetalLengthCm']\n",
    "versicolor_petal = iris[iris['Species'] == 'Iris-versicolor']['PetalLengthCm']\n",
    "virginica_petal = iris[iris['Species'] == 'Iris-virginica']['PetalLengthCm']\n",
    "\n",
    "f_stat, p_value = stats.f_oneway(setosa_petal, versicolor_petal, virginica_petal)\n",
    "print(f_stat)\n",
    "print (p_value)\n",
    "\n",
    "alpha = 0.05\n",
    "if p_value < alpha:\n",
    "    print(f\"Since p = {p_value} < 0.05, we reject H0.\")\n",
    "    print(\"Conclusion: There is a significant difference in petal length across species.\")\n",
    "else:\n",
    "    print(f\"Since p = {p_value} >= 0.05, we fail to reject H0.\")\n",
    "    print(\"Conclusion: No significant difference in petal length.\")"
   ]
  },
  {
   "cell_type": "markdown",
   "id": "0ec6a62f",
   "metadata": {},
   "source": [
    "## QUESTION 4\n",
    "## CHI TEST"
   ]
  },
  {
   "cell_type": "code",
   "execution_count": 25,
   "id": "223d6672",
   "metadata": {},
   "outputs": [
    {
     "name": "stdout",
     "output_type": "stream",
     "text": [
      "Survived    0   1\n",
      "Pclass           \n",
      "1          57  50\n",
      "2          63  30\n",
      "3         146  72\n",
      "6.693869422819262 0.03519206276590605 2 [[ 68.09090909  38.90909091]\n",
      " [ 59.18181818  33.81818182]\n",
      " [138.72727273  79.27272727]]\n",
      "Pclass is dependent of Survived\n"
     ]
    }
   ],
   "source": [
    "##build the contigency table\n",
    "tested = pd.read_csv('C:/Users/Admin/Documents/Inferential-Hypothesis-testing/tested.csv')\n",
    "tested = pd.crosstab(tested['Pclass'],tested['Survived'])\n",
    "print(tested)\n",
    "\n",
    "## the chi test\n",
    "chi2,p,dof,expected=chi2_contingency(tested)\n",
    "print(chi2,p,dof,expected)\n",
    "\n",
    "if p<0.05:\n",
    "    print('Pclass is dependent of Survived')\n",
    "else:\n",
    "    print('Purchase decision is independent of PassengerId')\n"
   ]
  },
  {
   "cell_type": "markdown",
   "id": "95fd2761",
   "metadata": {},
   "source": [
    "## QUESTION 5\n",
    "## one sample z test"
   ]
  },
  {
   "cell_type": "code",
   "execution_count": null,
   "id": "f06f917a",
   "metadata": {},
   "outputs": [
    {
     "name": "stdout",
     "output_type": "stream",
     "text": [
      "30.272590361445783\n",
      "418\n"
     ]
    }
   ],
   "source": [
    "tested = pd.read_csv('C:/Users/Admin/Documents/Inferential-Hypothesis-testing/tested.csv')\n",
    "tested=pd.read_csv('tested.csv')\n",
    "tested.head()\n",
    "ages=tested['Age'].mean()\n",
    "print(ages)\n",
    "n=len(tested)\n",
    "print(n)\n",
    "sigma=14.5\n",
    "alpha=0.05\n",
    "n=418\n",
    "mu=30\n",
    "x_bar=30\n",
    "z = (x_bar - mu)/(sigma/np.sqrt(n))\n",
    "p_value= 1-norm.cdf(z)\n",
    "print(p_value)\n",
    "print(z)\n",
    "if p_value < alpha:\n",
    "    print(f'Reject the null hypothesis which is:{null_hypothesis}')\n",
    "else:\n",
    "    print(f'We fail to reject the null hypothesis which is:{null_hypothesis}')\n"
   ]
  },
  {
   "cell_type": "markdown",
   "id": "968db2b3",
   "metadata": {},
   "source": [
    "## QUESTION 6\n",
    "## two tailed"
   ]
  },
  {
   "cell_type": "code",
   "execution_count": 28,
   "id": "c4e70beb",
   "metadata": {},
   "outputs": [
    {
     "name": "stdout",
     "output_type": "stream",
     "text": [
      "30.27273170731707\n",
      "30.27236220472441\n",
      "0.0002228637852388147\n",
      "0.999822366421643\n",
      "\n",
      "Since p = 0.999822366421643 >= 0.05, we fail to reject H0.\n",
      "Conclusion: There is no significant difference in mean ages.\n"
     ]
    }
   ],
   "source": [
    "tested = pd.read_csv('C:/Users/Admin/Documents/Inferential-Hypothesis-testing/tested.csv')\n",
    "# Separate ages by sex, drop missing\n",
    "male_age = tested[tested['Sex'] == 'male']['Age'].dropna()\n",
    "female_age = tested[tested['Sex'] == 'female']['Age'].dropna()\n",
    "\n",
    "##lets get the mean ages for each gender\n",
    "print(male_age.mean())\n",
    "print(female_age.mean())\n",
    "\n",
    "# Perform independent t-test (Welch's t-test if variances unequal)\n",
    "t_stat, p_value = stats.ttest_ind(male_age, female_age, equal_var=False)\n",
    "\n",
    "print(t_stat)\n",
    "print(p_value)\n",
    "\n",
    "alpha = 0.05\n",
    "if p_value < alpha:\n",
    "    print(f\"\\nSince p = {p_value} < 0.05, we reject H0.\")\n",
    "    print(\"Conclusion: The mean ages of male and female passengers are significantly different.\")\n",
    "else:\n",
    "    print(f\"\\nSince p = {p_value} >= 0.05, we fail to reject H0.\")\n",
    "    print(\"Conclusion: There is no significant difference in mean ages.\")\n"
   ]
  },
  {
   "cell_type": "markdown",
   "id": "53aaaa2e",
   "metadata": {},
   "source": [
    "## question 7\n",
    "## one way anova"
   ]
  },
  {
   "cell_type": "code",
   "execution_count": null,
   "id": "20f45e50",
   "metadata": {},
   "outputs": [
    {
     "name": "stdout",
     "output_type": "stream",
     "text": [
      "129.89190776865905\n",
      "1.641767321164957e-44\n",
      "\n",
      "Since p = 1.641767321164957e-44 < 0.05, we reject H0.\n",
      "Conclusion: There is a significant difference in fare across passenger classes.\n"
     ]
    }
   ],
   "source": [
    "tested = pd.read_csv('C:/Users/Admin/Documents/Inferential-Hypothesis-testing/tested.csv')\n",
    "\n",
    "#lets split each fare category to its own list\n",
    "fare_pclass1 = tested[tested['Pclass'] == 1]['Fare'].dropna()\n",
    "fare_pclass2 = tested[tested['Pclass'] == 2]['Fare'].dropna()\n",
    "fare_pclass3 = tested[tested['Pclass'] == 3]['Fare'].dropna()\n",
    "##perform one anova\n",
    "f_stat, p_value = stats.f_oneway(fare_pclass1, fare_pclass2, fare_pclass3)\n",
    "\n",
    "print(f_stat)\n",
    "print(p_value)\n",
    "\n",
    "##test the hypothesis\n",
    "alpha = 0.05\n",
    "if p_value < alpha:\n",
    "    print(f\"\\nSince p = {p_value} < 0.05, we reject H0.\")\n",
    "    print(\"Conclusion: There is a significant difference in fare across passenger classes.\")\n",
    "else:\n",
    "    print(f\"\\nSince p = {p_value} >= 0.05, we fail to reject H0.\")\n",
    "    print(\"Conclusion: No significant difference in fare across classes.\")"
   ]
  },
  {
   "cell_type": "markdown",
   "id": "94e15a87",
   "metadata": {},
   "source": [
    "## question 8\n",
    "## chi test"
   ]
  },
  {
   "cell_type": "code",
   "execution_count": 33,
   "id": "3dee9d33",
   "metadata": {},
   "outputs": [
    {
     "name": "stdout",
     "output_type": "stream",
     "text": [
      "Contingency table:\n",
      "Sex       female  male\n",
      "Survived              \n",
      "0              0   266\n",
      "1            152     0\n",
      "413.6897405343716\n",
      "5.767311139789629e-92\n",
      "1\n",
      "\n",
      "Since p = 5.767311139789629e-92 < 0.05, we reject H0.\n",
      "Conclusion: Survival is dependent on sex.\n"
     ]
    }
   ],
   "source": [
    "tested = pd.read_csv(\"tested.csv\")\n",
    "\n",
    "tested = pd.crosstab(tested['Survived'], tested['Sex'])\n",
    "print(\"Contingency table:\")\n",
    "print(tested)\n",
    "\n",
    "chi2, p, dof, expected = chi2_contingency(tested)\n",
    "\n",
    "print (chi2)##chi statistic\n",
    "print (p)##p_value\n",
    "print (dof)##degress of freedom\n",
    "\n",
    "alpha = 0.05\n",
    "if p < alpha:\n",
    "    print(f\"\\nSince p = {p} < 0.05, we reject H0.\")\n",
    "    print(\"Conclusion: Survival is dependent on sex.\")\n",
    "else:\n",
    "    print(f\"\\nSince p = {p} >= 0.05, we fail to reject H0.\")\n",
    "    print(\"Conclusion: Survival is independent of sex.\")"
   ]
  },
  {
   "cell_type": "markdown",
   "id": "d1e90c36",
   "metadata": {},
   "source": [
    "## Question 9\n",
    "## paired T-test"
   ]
  },
  {
   "cell_type": "code",
   "execution_count": 36,
   "id": "9bc599ea",
   "metadata": {},
   "outputs": [
    {
     "name": "stdout",
     "output_type": "stream",
     "text": [
      "-10.816230631665421\n",
      "7.322335900414137e-26\n",
      "\n",
      "Since p = 7.322335900414137e-26 < 0.05, we reject H0.\n",
      "Conclusion: Math and reading scores are significantly different.\n"
     ]
    }
   ],
   "source": [
    "students = pd.read_csv('StudentsPerformance.csv')\n",
    "\n",
    "students.columns\n",
    "\n",
    "# Extract list of categories\n",
    "math_scores = students['math score']\n",
    "reading_scores = students['reading score']\n",
    "\n",
    "t_stat, p_value = stats.ttest_rel(math_scores, reading_scores)\n",
    "\n",
    "print(t_stat)\n",
    "print(p_value)\n",
    "alpha = 0.05\n",
    "if p_value < alpha:\n",
    "    print(f\"\\nSince p = {p_value} < 0.05, we reject H0.\")\n",
    "    print(\"Conclusion: Math and reading scores are significantly different.\")\n",
    "else:\n",
    "    print(f\"\\nSince p = {p_value} >= 0.05, we fail to reject H0.\")\n",
    "    print(\"Conclusion: No significant difference between math and reading scores.\")"
   ]
  },
  {
   "cell_type": "markdown",
   "id": "69d67022",
   "metadata": {},
   "source": [
    "## Question 10\n",
    "### one sampled z test\n"
   ]
  },
  {
   "cell_type": "code",
   "execution_count": 39,
   "id": "01ef0266",
   "metadata": {},
   "outputs": [
    {
     "name": "stdout",
     "output_type": "stream",
     "text": [
      "68.054\n",
      "1000\n",
      "0.9999795670001616\n",
      "-4.1025282177917735\n",
      "\n",
      "Since p = 0.9999795670001616 >= 0.05, we fail to reject H0.\n",
      "Conclusion: There is no significant difference from 70.\n"
     ]
    }
   ],
   "source": [
    "students = pd.read_csv('StudentsPerformance.csv')\n",
    "\n",
    "students.columns\n",
    "\n",
    "# Extract writing scores\n",
    "writing_scores = students['writing score']\n",
    "\n",
    "writing_scores.mean()\n",
    "print(writing_scores.mean())\n",
    "n=len(students)\n",
    "print(n)\n",
    "sigma=15\n",
    "alpha=0.05\n",
    "x_bar= 68.054\n",
    "mu=70\n",
    "z = (x_bar - mu)/(sigma/np.sqrt(n))\n",
    "p_value= 1-norm.cdf(z)\n",
    "print (p_value)\n",
    "print (z)\n",
    "\n",
    "alpha = 0.05\n",
    "if p_value < alpha:\n",
    "    print(f\"\\nSince p = {p_value} < 0.05, we reject H0.\")\n",
    "    print(\"Conclusion: The mean writing score is significantly different from 70.\")\n",
    "else:\n",
    "    print(f\"\\nSince p = {p_value} >= 0.05, we fail to reject H0.\")\n",
    "    print(\"Conclusion: There is no significant difference from 70.\")\n",
    "\n",
    "\n",
    "\n"
   ]
  },
  {
   "cell_type": "markdown",
   "id": "711d0cf8",
   "metadata": {},
   "source": [
    "## Question 11\n",
    "### two t-test"
   ]
  },
  {
   "cell_type": "code",
   "execution_count": 44,
   "id": "73529d41",
   "metadata": {},
   "outputs": [
    {
     "name": "stdout",
     "output_type": "stream",
     "text": [
      "68.72821576763485\n",
      "63.633204633204635\n",
      "5.398000564160736\n",
      "8.420838109090415e-08\n",
      "\n",
      "Since p = 8.420838109090415e-08 >= 0.05, we fail to reject H0.\n",
      "Conclusion: No significant difference in math scores between genders.\n"
     ]
    }
   ],
   "source": [
    "students = pd.read_csv('StudentsPerformance.csv')\n",
    "\n",
    "students.columns\n",
    "\n",
    "# Separate math scores by gender\n",
    "male_math = students[students['gender'] == 'male']['math score']\n",
    "female_math = students[students['gender'] == 'female']['math score']\n",
    "\n",
    "##print individual means for each gender\n",
    "print(male_math.mean())\n",
    "print(female_math.mean())\n",
    "\n",
    "t_stat , p_value= stats.ttest_ind(male_math, female_math, equal_var=False)\n",
    "\n",
    "print(t_stat)\n",
    "print(p_value)\n",
    "\n",
    "alpha=0.05\n",
    "if alpha < p_value:\n",
    "    print(f\"\\nSince p = {p_value} < 0.05, we reject H0.\")\n",
    "    print(\"Conclusion: Math scores are significantly different between genders.\")\n",
    "else:\n",
    "    print(f\"\\nSince p = {p_value} >= 0.05, we fail to reject H0.\")\n",
    "    print(\"Conclusion: No significant difference in math scores between genders.\")"
   ]
  },
  {
   "cell_type": "markdown",
   "id": "8e15247c",
   "metadata": {},
   "source": [
    "## question 12\n",
    "## one way anova"
   ]
  },
  {
   "cell_type": "code",
   "execution_count": 49,
   "id": "aa6fbf32",
   "metadata": {},
   "outputs": [
    {
     "name": "stdout",
     "output_type": "stream",
     "text": [
      "61.62921348314607\n",
      "63.45263157894737\n",
      "64.46394984326018\n",
      "67.36259541984732\n",
      "14.593885166332635\n",
      "1.3732194030370688e-11\n",
      "\n",
      "Since p = 1.3732194030370688e-11 >= 0.05, we fail to reject H0.\n",
      "Conclusion: No significant difference in math scores across ethnic groups.\n"
     ]
    }
   ],
   "source": [
    "students = pd.read_csv('StudentsPerformance.csv')\n",
    "##find column we are looking for\n",
    "students.columns\n",
    "##check different ethinicity groups\n",
    "students.head()\n",
    "\n",
    "##split the ethnicity groups so wecan do mean of each\n",
    "# Explicitly split math scores by each ethnic group\n",
    "groupA = students[students['race/ethnicity'] == 'group A']['math score']\n",
    "groupB = students[students['race/ethnicity'] == 'group B']['math score']\n",
    "groupC = students[students['race/ethnicity'] == 'group C']['math score']\n",
    "groupD = students[students['race/ethnicity'] == 'group D']['math score']\n",
    "groupE = students[students['race/ethnicity'] == 'group E']['math score']\n",
    "\n",
    "##print each mean for each group\n",
    "print(groupA.mean())\n",
    "print(groupB.mean())\n",
    "print(groupC.mean())\n",
    "print(groupD.mean())\n",
    "\n",
    "##perform one anova test\n",
    "\n",
    "f_stat, p_value = stats.f_oneway(groupA, groupB, groupC, groupD, groupE)\n",
    "\n",
    "print(f_stat)\n",
    "print(p_value)\n",
    "\n",
    "alpha=0.05\n",
    "if alpha < p_value:\n",
    "    print(f\"\\nSince p = {p_value} < 0.05, we reject H0.\")\n",
    "    print(\"Conclusion: There is a significant difference in math scores across ethnic groups.\")\n",
    "else:\n",
    "    print(f\"\\nSince p = {p_value} >= 0.05, we fail to reject H0.\")\n",
    "    print(\"Conclusion: No significant difference in math scores across ethnic groups.\")\n",
    "\n"
   ]
  },
  {
   "cell_type": "markdown",
   "id": "6e4cb400",
   "metadata": {},
   "source": [
    "## Question 13\n",
    "### CHI Test"
   ]
  },
  {
   "cell_type": "code",
   "execution_count": 53,
   "id": "53699dd9",
   "metadata": {},
   "outputs": [
    {
     "name": "stdout",
     "output_type": "stream",
     "text": [
      "Contingency table:\n",
      "test preparation course  completed  none\n",
      "gender                                  \n",
      "female                         184   334\n",
      "male                           174   308\n",
      "0.015529201882465888\n",
      "0.9008273880804724\n",
      "1\n",
      "\n",
      "Since p = 0.9008273880804724 >= 0.05, we fail to reject H0.\n",
      "Conclusion: Gender is independent of test preparation.\n"
     ]
    }
   ],
   "source": [
    "students = pd.read_csv('StudentsPerformance.csv')\n",
    "\n",
    "students.columns\n",
    "\n",
    "students = pd.crosstab(students['gender'], students['test preparation course'])\n",
    "print(\"Contingency table:\")\n",
    "print(students)\n",
    "\n",
    "chi2, p, dof, expected = chi2_contingency(students)\n",
    "\n",
    "print (chi2)##chi statistic\n",
    "print (p)##p_value\n",
    "print (dof)##degress of freedom\n",
    "\n",
    "alpha = 0.05\n",
    "if p < alpha:\n",
    "    print(f\"\\nSince p = {p} < 0.05, we reject H0.\")\n",
    "    print(\"Conclusion: Gender is not independent of test preparation; they are associated.\")\n",
    "else:\n",
    "    print(f\"\\nSince p = {p} >= 0.05, we fail to reject H0.\")\n",
    "    print(\"Conclusion: Gender is independent of test preparation.\")\n",
    "\n",
    "\n"
   ]
  },
  {
   "cell_type": "markdown",
   "id": "7d0413ba",
   "metadata": {},
   "source": [
    "## Question 14\n",
    "### one sampled t test"
   ]
  },
  {
   "cell_type": "code",
   "execution_count": null,
   "id": "26c06fbb",
   "metadata": {},
   "outputs": [],
   "source": [
    "iris = pd.read_csv('Iris.csv')\n",
    "\n",
    "##check columns\n",
    "iris.columns\n",
    "\n",
    "##lets pick species which is same with petalwidth\n",
    "virginica_petal_width = iris[iris['Species'] == 'Iris-virginica']['PetalWidthCm']\n",
    "print(virginica_petal_width)\n",
    "##do the one sampled\n",
    "t_stat, p_value = stats.ttest_1samp(virginica_petal_width, 2.0)\n",
    "print(t_stat)\n",
    "print(p_value)\n",
    "\n",
    "alpha = 0.05\n",
    "if p_value < alpha:\n",
    "    print(f\"\\nSince p = {p_value} < 0.05, we reject H0.\")\n",
    "    print(\"Conclusion: The mean petal width is significantly different from 2.0.\")\n",
    "else:\n",
    "    print(f\"\\nSince p = {p_value} >= 0.05, we fail to reject H0.\")\n",
    "    print(\"Conclusion: No significant difference from 2.0.\")\n"
   ]
  },
  {
   "cell_type": "markdown",
   "id": "5aea1879",
   "metadata": {},
   "source": [
    "## QUestion 15\n",
    "### two sample t-test"
   ]
  },
  {
   "cell_type": "code",
   "execution_count": 58,
   "id": "1a213072",
   "metadata": {},
   "outputs": [
    {
     "name": "stdout",
     "output_type": "stream",
     "text": [
      "3.4478682983060884\n",
      "0.0006845156351814127\n",
      "\n",
      "Since p = 0.0006845156351814127 < 0.05, we reject H0.\n",
      "Conclusion: Fares are significantly different between survivors and non-survivors.\n"
     ]
    }
   ],
   "source": [
    "tested = pd.read_csv(\"tested.csv\")\n",
    "\n",
    "##check columns\n",
    "tested.columns\n",
    "\n",
    "## take the sample data for the two categories fare & surived\n",
    "survivor_fare = tested[tested['Survived'] == 1]['Fare'].dropna()\n",
    "nonsurvivor_fare = tested[tested['Survived'] == 0]['Fare'].dropna()\n",
    "\n",
    "\n",
    "t_stat, p_value = stats.ttest_ind(survivor_fare, nonsurvivor_fare, equal_var=False)\n",
    "\n",
    "print(t_stat)\n",
    "print(p_value)\n",
    "\n",
    "alpha = 0.05\n",
    "if p_value < alpha:\n",
    "    print(f\"\\nSince p = {p_value} < 0.05, we reject H0.\")\n",
    "    print(\"Conclusion: Fares are significantly different between survivors and non-survivors.\")\n",
    "else:\n",
    "    print(f\"\\nSince p = {p_value} >= 0.05, we fail to reject H0.\")\n",
    "    print(\"Conclusion: No significant difference in fares between survivors and non-survivors.\")"
   ]
  },
  {
   "cell_type": "markdown",
   "id": "9ebdafc8",
   "metadata": {},
   "source": [
    "## Question 16\n",
    "### one anova test"
   ]
  },
  {
   "cell_type": "code",
   "execution_count": 59,
   "id": "b4e456c5",
   "metadata": {},
   "outputs": [
    {
     "name": "stdout",
     "output_type": "stream",
     "text": [
      "119.26450218450468\n",
      "1.669669190769383e-31\n",
      "\n",
      "Since p = 1.669669190769383e-31 < 0.05, we reject H0.\n",
      "Conclusion: Sepal length differs significantly across species.\n"
     ]
    }
   ],
   "source": [
    "iris = pd.read_csv('Iris.csv')\n",
    "\n",
    "##check columns\n",
    "iris.columns\n",
    "\n",
    "# Split sepal length by species\n",
    "setosa_sepal_length = iris[iris['Species'] == 'Iris-setosa']['SepalLengthCm']\n",
    "versicolor_sepal_length = iris[iris['Species'] == 'Iris-versicolor']['SepalLengthCm']\n",
    "virginica_sepal_length = iris[iris['Species'] == 'Iris-virginica']['SepalLengthCm']\n",
    "\n",
    "f_stat, p_value = stats.f_oneway(setosa_sepal_length, versicolor_sepal_length, virginica_sepal_length)\n",
    "\n",
    "print(f_stat)\n",
    "print(p_value)\n",
    "\n",
    "alpha = 0.05\n",
    "if p_value < alpha:\n",
    "    print(f\"\\nSince p = {p_value} < 0.05, we reject H0.\")\n",
    "    print(\"Conclusion: Sepal length differs significantly across species.\")\n",
    "else:\n",
    "    print(f\"\\nSince p = {p_value} >= 0.05, we fail to reject H0.\")\n",
    "    print(\"Conclusion: No significant difference in sepal length across species.\")"
   ]
  },
  {
   "cell_type": "markdown",
   "id": "1e3aaba0",
   "metadata": {},
   "source": [
    "## Question 17\n",
    "### chi test"
   ]
  },
  {
   "cell_type": "code",
   "execution_count": 61,
   "id": "bff6b133",
   "metadata": {},
   "outputs": [
    {
     "name": "stdout",
     "output_type": "stream",
     "text": [
      "Contingency table:\n",
      "Pclass     1   2    3\n",
      "Embarked             \n",
      "C         56  11   35\n",
      "Q          1   4   41\n",
      "S         50  78  142\n",
      "82.83186678873668\n",
      "4.373384811850251e-17\n",
      "4\n",
      "\n",
      "Since p = 4.373384811850251e-17 < 0.05, we reject H0.\n",
      "Conclusion: Embarkation port is not independent of passenger class; they are associated.\n"
     ]
    }
   ],
   "source": [
    "tested = pd.read_csv('tested.csv')\n",
    "\n",
    "tested.columns\n",
    "\n",
    "tested = pd.crosstab(tested['Embarked'], tested['Pclass'])\n",
    "print(\"Contingency table:\")\n",
    "print(tested)\n",
    "\n",
    "chi2, p, dof, expected = chi2_contingency(tested)\n",
    "\n",
    "print (chi2)##chi statistic\n",
    "print (p)##p_value\n",
    "print (dof)##degress of freedom\n",
    "\n",
    "alpha = 0.05\n",
    "if p < alpha:\n",
    "    print(f\"\\nSince p = {p} < 0.05, we reject H0.\")\n",
    "    print(\"Conclusion: Embarkation port is not independent of passenger class; they are associated.\")\n",
    "else:\n",
    "    print(f\"\\nSince p = {p} >= 0.05, we fail to reject H0.\")\n",
    "    print(\"Conclusion: Embarkation port is independent of passenger class.\")\n"
   ]
  },
  {
   "cell_type": "markdown",
   "id": "a0c26820",
   "metadata": {},
   "source": [
    "## Question 18\n",
    "### one sampled z test"
   ]
  },
  {
   "cell_type": "code",
   "execution_count": 66,
   "id": "c222f0c2",
   "metadata": {},
   "outputs": [
    {
     "name": "stdout",
     "output_type": "stream",
     "text": [
      "66.089\n",
      "1000\n",
      "0.010843271282586553\n",
      "2.2958135812822404\n",
      "\n",
      "Since p = 0.010843271282586553 < 0.05, we reject H0.\n",
      "Conclusion: Mean math score is significantly different from 65.\n"
     ]
    }
   ],
   "source": [
    "students = pd.read_csv('StudentsPerformance.csv')\n",
    "\n",
    "students.columns\n",
    "\n",
    "math_scores = students['math score'].dropna()\n",
    "print(math_scores.mean())\n",
    "n=len(math_scores)\n",
    "print(n)\n",
    "sigma=15\n",
    "alpha=0.05\n",
    "x_bar= 66.089\n",
    "mu=65\n",
    "z = (x_bar - mu)/(sigma/np.sqrt(n))\n",
    "p_value= 1-norm.cdf(z)\n",
    "print (p_value)\n",
    "print (z)\n",
    "\n",
    "alpha = 0.05\n",
    "if p_value < alpha:\n",
    "    print(f\"\\nSince p = {p_value} < 0.05, we reject H0.\")\n",
    "    print(\"Conclusion: Mean math score is significantly different from 65.\")\n",
    "else:\n",
    "    print(f\"\\nSince p = {p_value} >= 0.05, we fail to reject H0.\")\n",
    "    print(\"Conclusion: No significant difference from 65.\")\n"
   ]
  },
  {
   "cell_type": "markdown",
   "id": "a818f325",
   "metadata": {},
   "source": [
    "## Question 19\n",
    "### paired t - test"
   ]
  },
  {
   "cell_type": "code",
   "execution_count": 67,
   "id": "c651e07d",
   "metadata": {},
   "outputs": [
    {
     "name": "stdout",
     "output_type": "stream",
     "text": [
      "7.787445512854921\n",
      "1.7054750946105386e-14\n",
      "\n",
      "Since p = 1.7054750946105386e-14 < 0.05, we reject H0.\n",
      "Conclusion: Reading and writing scores are significantly different.\n"
     ]
    }
   ],
   "source": [
    "# Load dataset\n",
    "students = pd.read_csv('StudentsPerformance.csv')\n",
    "\n",
    "# Extract paired samples\n",
    "reading_scores = students['reading score']\n",
    "writing_scores = students['writing score']\n",
    "\n",
    "# Perform paired t-test\n",
    "t_stat, p_value = stats.ttest_rel(reading_scores, writing_scores)\n",
    "\n",
    "print (t_stat)\n",
    "print(p_value)\n",
    "\n",
    "alpha = 0.05\n",
    "if p_value < alpha:\n",
    "    print(f\"\\nSince p = {p_value} < 0.05, we reject H0.\")\n",
    "    print(\"Conclusion: Reading and writing scores are significantly different.\")\n",
    "else:\n",
    "    print(f\"\\nSince p = {p_value} >= 0.05, we fail to reject H0.\")\n",
    "    print(\"Conclusion: No significant difference between reading and writing scores.\")"
   ]
  },
  {
   "cell_type": "markdown",
   "id": "03a3d8c3",
   "metadata": {},
   "source": [
    "## Question 20\n",
    "### two sampled t test"
   ]
  },
  {
   "cell_type": "code",
   "execution_count": 68,
   "id": "db1e8467",
   "metadata": {},
   "outputs": [
    {
     "name": "stdout",
     "output_type": "stream",
     "text": [
      "-12.603779441384987\n",
      "4.900287527398095e-22\n",
      "\n",
      "Since p = 4.900287527398095e-22 < 0.05, we reject H0.\n",
      "Conclusion: Petal lengths are significantly different between Iris-versicolor and Iris-virginica.\n"
     ]
    }
   ],
   "source": [
    "iris = pd.read_csv('Iris.csv')\n",
    "\n",
    "##check columns\n",
    "iris.columns\n",
    "\n",
    "# Extract samples\n",
    "versicolor_petal_length = iris[iris['Species'] == 'Iris-versicolor']['PetalLengthCm']\n",
    "virginica_petal_length = iris[iris['Species'] == 'Iris-virginica']['PetalLengthCm']\n",
    "\n",
    "t_stat, p_value = stats.ttest_ind(versicolor_petal_length, virginica_petal_length, equal_var=False)\n",
    "print (t_stat)\n",
    "print (p_value)\n",
    "\n",
    "alpha = 0.05\n",
    "if p_value < alpha:\n",
    "    print(f\"\\nSince p = {p_value} < 0.05, we reject H0.\")\n",
    "    print(\"Conclusion: Petal lengths are significantly different between Iris-versicolor and Iris-virginica.\")\n",
    "else:\n",
    "    print(f\"\\nSince p = {p_value} >= 0.05, we fail to reject H0.\")\n",
    "    print(\"Conclusion: No significant difference in petal lengths.\")\n",
    "\n",
    "\n"
   ]
  },
  {
   "cell_type": "markdown",
   "id": "c76cb13c",
   "metadata": {},
   "source": [
    "## question 21\n",
    "### one anova test"
   ]
  },
  {
   "cell_type": "code",
   "execution_count": 73,
   "id": "5137c8c9",
   "metadata": {},
   "outputs": [
    {
     "name": "stdout",
     "output_type": "stream",
     "text": [
      "61.96308687030073\n",
      "9.081783336895556e-15\n",
      "\n",
      "Since p = 9.081783336895556e-15 < 0.05, we reject H0.\n",
      "Conclusion: Reading scores differ significantly by test preparation course status.\n"
     ]
    }
   ],
   "source": [
    "# Load dataset\n",
    "students = pd.read_csv('StudentsPerformance.csv')\n",
    "\n",
    "students.columns\n",
    "\n",
    "students.head()\n",
    "\n",
    "Completed = students[students['test preparation course'] == 'completed']['reading score']\n",
    "none = students[students['test preparation course'] == 'none']['reading score']\n",
    "\n",
    "f_stat, p_value = stats.f_oneway( Completed, none)\n",
    "\n",
    "print(f_stat)\n",
    "print(p_value)\n",
    "\n",
    "alpha = 0.05\n",
    "if p_value < alpha:\n",
    "    print(f\"\\nSince p = {p_value} < 0.05, we reject H0.\")\n",
    "    print(\"Conclusion: Reading scores differ significantly by test preparation course status.\")\n",
    "else:\n",
    "    print(f\"\\nSince p = {p_value} >= 0.05, we fail to reject H0.\")\n",
    "    print(\"Conclusion: No significant difference in reading scores by test preparation course status.\")"
   ]
  },
  {
   "cell_type": "markdown",
   "id": "efa14014",
   "metadata": {},
   "source": [
    "## Question 22\n",
    "### chi test"
   ]
  },
  {
   "cell_type": "code",
   "execution_count": 74,
   "id": "a1812859",
   "metadata": {},
   "outputs": [
    {
     "name": "stdout",
     "output_type": "stream",
     "text": [
      "Contingency table:\n",
      "test preparation course      completed  none\n",
      "parental level of education                 \n",
      "associate's degree                  82   140\n",
      "bachelor's degree                   46    72\n",
      "high school                         56   140\n",
      "master's degree                     20    39\n",
      "some college                        77   149\n",
      "some high school                    77   102\n",
      "9.54407054307069\n",
      "0.08923388625809343\n",
      "5\n",
      "\n",
      "Since p = 0.08923388625809343 >= 0.05, we fail to reject H0.\n",
      "Conclusion: Parental education is independent of test preparation.\n"
     ]
    }
   ],
   "source": [
    "students = pd.read_csv('StudentsPerformance.csv')\n",
    "\n",
    "students.columns\n",
    "\n",
    "students = pd.crosstab(students['parental level of education'], students['test preparation course'])\n",
    "print(\"Contingency table:\")\n",
    "print(students)\n",
    "\n",
    "chi2, p, dof, expected = chi2_contingency(students)\n",
    "\n",
    "print (chi2)##chi statistic\n",
    "print (p)##p_value\n",
    "print (dof)##degress of freedom\n",
    "\n",
    "alpha = 0.05\n",
    "if p < alpha:\n",
    "    print(f\"\\nSince p = {p} < 0.05, we reject H0.\")\n",
    "    print(\"Conclusion: Parental education is not independent of test preparation; they are associated.\")\n",
    "else:\n",
    "    print(f\"\\nSince p = {p} >= 0.05, we fail to reject H0.\")\n",
    "    print(\"Conclusion: Parental education is independent of test preparation.\")"
   ]
  },
  {
   "cell_type": "markdown",
   "id": "031de604",
   "metadata": {},
   "source": [
    "## Question 23\n",
    "### one sampled t test"
   ]
  },
  {
   "cell_type": "code",
   "execution_count": 75,
   "id": "4c663000",
   "metadata": {},
   "outputs": [
    {
     "name": "stdout",
     "output_type": "stream",
     "text": [
      "2.0553643800991495\n",
      "0.04046758014596787\n",
      "\n",
      "Since p = 0.04046758014596787 < 0.05, we reject H0.\n",
      "Conclusion: Mean fare is significantly different from 30.\n"
     ]
    }
   ],
   "source": [
    "tested = pd.read_csv('tested.csv')\n",
    "\n",
    "tested.columns\n",
    "\n",
    "fares = tested['Fare'].dropna()\n",
    "\n",
    "t_stat, p_value = stats.ttest_1samp(fares, 30)\n",
    "\n",
    "print (t_stat)\n",
    "print (p_value)\n",
    "\n",
    "alpha = 0.05\n",
    "if p_value < alpha:\n",
    "    print(f\"\\nSince p = {p_value} < 0.05, we reject H0.\")\n",
    "    print(\"Conclusion: Mean fare is significantly different from 30.\")\n",
    "else:\n",
    "    print(f\"\\nSince p = {p_value} >= 0.05, we fail to reject H0.\")\n",
    "    print(\"Conclusion: No significant difference from 30.\")"
   ]
  },
  {
   "cell_type": "markdown",
   "id": "7812c6ee",
   "metadata": {},
   "source": [
    "## Question 24\n",
    "### two sampled t-test"
   ]
  },
  {
   "cell_type": "code",
   "execution_count": 76,
   "id": "fc7652f8",
   "metadata": {},
   "outputs": [
    {
     "name": "stdout",
     "output_type": "stream",
     "text": [
      "10.752510233886923\n",
      "2.662740173941066e-25\n",
      "\n",
      "Since p = 2.662740173941066e-25 < 0.05, we reject H0.\n",
      "Conclusion: Writing scores are significantly different by test preparation.\n"
     ]
    }
   ],
   "source": [
    "students = pd.read_csv('StudentsPerformance.csv')\n",
    "\n",
    "students.columns\n",
    "\n",
    "prep = students[students['test preparation course'] == 'completed']['writing score']\n",
    "noprep = students[students['test preparation course'] == 'none']['writing score']\n",
    "\n",
    "t_stat, p_value = stats.ttest_ind(prep, noprep, equal_var=False)\n",
    "\n",
    "print(t_stat)\n",
    "print(p_value)\n",
    "\n",
    "alpha = 0.05\n",
    "if p_value < alpha:\n",
    "    print(f\"\\nSince p = {p_value} < 0.05, we reject H0.\")\n",
    "    print(\"Conclusion: Writing scores are significantly different by test preparation.\")\n",
    "else:\n",
    "    print(f\"\\nSince p = {p_value} >= 0.05, we fail to reject H0.\")\n",
    "    print(\"Conclusion: No significant difference in writing scores by test preparation.\")\n"
   ]
  },
  {
   "cell_type": "markdown",
   "id": "97594d8b",
   "metadata": {},
   "source": [
    "## Question 25\n",
    "### one anova"
   ]
  },
  {
   "cell_type": "code",
   "execution_count": null,
   "id": "5770d23f",
   "metadata": {},
   "outputs": [
    {
     "name": "stdout",
     "output_type": "stream",
     "text": [
      "5.5629596600367455\n",
      "0.004207167976872811\n",
      "\n",
      "Since p = 0.004207167976872811 < 0.05, we reject H0.\n",
      "Conclusion: Age differs significantly across embarkation ports.\n"
     ]
    }
   ],
   "source": [
    "tested = pd.read_csv('C:/Users/Admin/Documents/Inferential-Hypothesis-testing/tested.csv')\n",
    "\n",
    "tested.columns\n",
    "\n",
    "### drop figures that are null\n",
    "tested1 = tested.dropna(subset=['Age', 'Embarked'])\n",
    "\n",
    "###split the age by embarked\n",
    "C = tested1[tested1['Embarked'] == 'C']['Age']\n",
    "Q = tested1[tested1['Embarked'] == 'Q']['Age']\n",
    "S = tested1[tested1['Embarked'] == 'S']['Age']\n",
    "\n",
    "\n",
    "f_stat, p_value = stats.f_oneway(C, Q, S)\n",
    "print(f_stat)\n",
    "print(p_value)\n",
    "alpha = 0.05\n",
    "if p_value < alpha:\n",
    "    print(f\"\\nSince p = {p_value} < 0.05, we reject H0.\")\n",
    "    print(\"Conclusion: Age differs significantly across embarkation ports.\")\n",
    "else:\n",
    "    print(f\"\\nSince p = {p_value} >= 0.05, we fail to reject H0.\")\n",
    "    print(\"Conclusion: No significant difference in age across embarkation ports.\")\n",
    "\n",
    "\n"
   ]
  }
 ],
 "metadata": {
  "kernelspec": {
   "display_name": "Python 3",
   "language": "python",
   "name": "python3"
  },
  "language_info": {
   "codemirror_mode": {
    "name": "ipython",
    "version": 3
   },
   "file_extension": ".py",
   "mimetype": "text/x-python",
   "name": "python",
   "nbconvert_exporter": "python",
   "pygments_lexer": "ipython3",
   "version": "3.13.3"
  }
 },
 "nbformat": 4,
 "nbformat_minor": 5
}
